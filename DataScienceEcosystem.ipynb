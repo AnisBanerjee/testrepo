{
 "cells": [
  {
   "cell_type": "markdown",
   "id": "a597f880-30c6-4334-8972-7b072fd017e8",
   "metadata": {},
   "source": [
    "# Data Science Tools and Ecosystem\n"
   ]
  },
  {
   "cell_type": "markdown",
   "id": "7e988aec-4ffd-401d-8525-94494449e500",
   "metadata": {},
   "source": [
    "## In this notebook, Data Science Tools and Ecosystem are summarized"
   ]
  },
  {
   "cell_type": "markdown",
   "id": "92c46129-4418-4840-9adf-7e793e52190d",
   "metadata": {},
   "source": [
    "**Objectives**\n",
    "* list libraries for data science\n",
    "* open source tools for data science\n",
    "* languages for data science   "
   ]
  },
  {
   "cell_type": "markdown",
   "id": "e89d260a-9259-48e2-8a8d-8eb9d522e542",
   "metadata": {},
   "source": [
    "## Some of the popular langyages that Data Scientists use are:\n",
    "1. First python\n",
    "2. Second R\n",
    "3. Third Julia"
   ]
  },
  {
   "cell_type": "markdown",
   "id": "02f50828-cdb9-4973-a156-dd1845069d44",
   "metadata": {},
   "source": [
    "## Some of the commonly used libraries used by Data Scientist include:\n",
    "1. First pandas\n",
    "2. Second Numpy\n",
    "3. Third Matplotlib"
   ]
  },
  {
   "cell_type": "markdown",
   "id": "87447e9d-9eae-4be4-86f6-00fd3c2b940c",
   "metadata": {},
   "source": [
    "# Data science Tools\n",
    " |Data Science Tools|\n",
    " |------------------|\n",
    " |      Rstudio    |\n",
    " | Apache spark |\n",
    " | Jupyter Notebook |"
   ]
  },
  {
   "cell_type": "markdown",
   "id": "01a8979a-74dc-413a-9d71-c750a9c93735",
   "metadata": {},
   "source": [
    "### Below are a few examples of evaluating arithmetic expressions in python"
   ]
  },
  {
   "cell_type": "code",
   "execution_count": 1,
   "id": "a6db4a46-9e12-40d7-947a-05fc9aa3b68b",
   "metadata": {},
   "outputs": [
    {
     "data": {
      "text/plain": [
       "17"
      ]
     },
     "execution_count": 1,
     "metadata": {},
     "output_type": "execute_result"
    }
   ],
   "source": [
    "# This is simple arithmetic expression to multiply then add integers\n",
    "(3*4)+5"
   ]
  },
  {
   "cell_type": "code",
   "execution_count": 4,
   "id": "9a51b05a-77e4-43fc-9b0e-417eb8e8856a",
   "metadata": {},
   "outputs": [
    {
     "name": "stdout",
     "output_type": "stream",
     "text": [
      "3\n"
     ]
    }
   ],
   "source": [
    "#This will convert 200 minutes to hours by dividing by 60\n",
    "min=200\n",
    "hours=min//60\n",
    "print(hours)\n"
   ]
  },
  {
   "cell_type": "markdown",
   "id": "55525eb0-f4e1-4721-865a-f9bd3715e713",
   "metadata": {},
   "source": [
    "## Author\n",
    "Anish Banerjee"
   ]
  },
  {
   "cell_type": "code",
   "execution_count": null,
   "id": "7f4352f5-d35b-49f2-993b-be56e0668350",
   "metadata": {},
   "outputs": [],
   "source": []
  }
 ],
 "metadata": {
  "kernelspec": {
   "display_name": "Python 3 (ipykernel)",
   "language": "python",
   "name": "python3"
  },
  "language_info": {
   "codemirror_mode": {
    "name": "ipython",
    "version": 3
   },
   "file_extension": ".py",
   "mimetype": "text/x-python",
   "name": "python",
   "nbconvert_exporter": "python",
   "pygments_lexer": "ipython3",
   "version": "3.11.7"
  }
 },
 "nbformat": 4,
 "nbformat_minor": 5
}
